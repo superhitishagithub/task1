{
 "cells": [
  {
   "cell_type": "code",
   "execution_count": null,
   "id": "7cd1749a",
   "metadata": {},
   "outputs": [
    {
     "name": "stdout",
     "output_type": "stream",
     "text": [
      " press 1 to add\n",
      "        press 2 to remove\n",
      "        press 3 to display list: 1\n",
      "enter name:apple\n",
      "['apple']\n",
      " press 1 to add\n",
      "        press 2 to remove\n",
      "        press 3 to display list: 1\n",
      "enter name:mango\n",
      "['apple', 'mango']\n",
      " press 1 to add\n",
      "        press 2 to remove\n",
      "        press 3 to display list: 1\n",
      "enter name:orange\n",
      "['apple', 'mango', 'orange']\n",
      " press 1 to add\n",
      "        press 2 to remove\n",
      "        press 3 to display list: 1\n",
      "enter name:kiwi\n",
      "['apple', 'mango', 'orange', 'kiwi']\n",
      " press 1 to add\n",
      "        press 2 to remove\n",
      "        press 3 to display list: 2\n",
      "enter nameapple\n",
      "['mango', 'orange', 'kiwi']\n",
      " press 1 to add\n",
      "        press 2 to remove\n",
      "        press 3 to display list: 3\n",
      "['mango', 'orange', 'kiwi']\n"
     ]
    }
   ],
   "source": [
    "grocery = []\n",
    "\n",
    "\n",
    "while True:\n",
    "        choice = int(input(\"\"\" press 1 to add\n",
    "        press 2 to remove\n",
    "        press 3 to display list: \"\"\"))\n",
    "\n",
    "        if choice == 1:  \n",
    "            item = input(\"enter name:\")\n",
    "            item= item.lower()\n",
    "            grocery.append(item)\n",
    "            print(grocery)\n",
    "        elif choice == 2:\n",
    "            item = input(\"enter name\")\n",
    "            grocery.remove(item)\n",
    "            print(grocery)\n",
    "        if choice == 3:\n",
    "            f= grocery.copy()\n",
    "            print(f)\n",
    "        \n",
    "\n",
    "                "
   ]
  },
  {
   "cell_type": "code",
   "execution_count": null,
   "id": "ac2149ec",
   "metadata": {},
   "outputs": [],
   "source": []
  },
  {
   "cell_type": "code",
   "execution_count": null,
   "id": "4cadfdc7",
   "metadata": {},
   "outputs": [],
   "source": []
  }
 ],
 "metadata": {
  "kernelspec": {
   "display_name": "Python 3 (ipykernel)",
   "language": "python",
   "name": "python3"
  },
  "language_info": {
   "codemirror_mode": {
    "name": "ipython",
    "version": 3
   },
   "file_extension": ".py",
   "mimetype": "text/x-python",
   "name": "python",
   "nbconvert_exporter": "python",
   "pygments_lexer": "ipython3",
   "version": "3.7.8"
  }
 },
 "nbformat": 4,
 "nbformat_minor": 5
}
